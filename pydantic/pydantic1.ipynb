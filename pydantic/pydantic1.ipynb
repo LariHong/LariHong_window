{
 "cells": [
  {
   "cell_type": "code",
   "execution_count": 7,
   "metadata": {},
   "outputs": [],
   "source": [
    "from pydantic import BaseModel\n",
    "\n",
    "class InventoryItem(BaseModel):\n",
    "    \"\"\"Class for keeping track of an item in inventory.\"\"\" #說明文字 or 多行字串格式\n",
    "\n",
    "    #在dataclass內這叫 field 但實際上是attribute\n",
    "    name: str\n",
    "    unit_price: float\n",
    "    quantity_on_hand: int = 0\n",
    "\n",
    "#pydantic 中設定了 unit_price 為float  你設定了字串15.5 但會自動轉型\n",
    "item1 = InventoryItem(name=\"XXX\",unit_price=\"15.5\")\n",
    "\n",
    "#python 如果 \"10.5\"  要轉成int 就要 int(float(\"10.5\"))\n",
    "\n"
   ]
  },
  {
   "cell_type": "code",
   "execution_count": 6,
   "metadata": {},
   "outputs": [
    {
     "name": "stdout",
     "output_type": "stream",
     "text": [
      "name='XXX' unit_price=15.5 quantity_on_hand=10\n"
     ]
    }
   ],
   "source": [
    "# 這裡的quantity_on_hand=\"10.5\" 會raise ValidationError\n",
    "# quantity_on_hand=\"10\" 則會正常\n",
    "from pydantic import ValidationError\n",
    "try:\n",
    "    item2 = InventoryItem(name=\"XXX\",unit_price=\"15.5\",quantity_on_hand=\"10\")\n",
    "    print(item2)\n",
    "except ValidationError as e:\n",
    "    print(e)"
   ]
  },
  {
   "cell_type": "code",
   "execution_count": null,
   "metadata": {},
   "outputs": [],
   "source": [
    "#使用class method 建立實體\n",
    "#model_valdate(dict)\n",
    "#model_valdate_json(json格式的字串)"
   ]
  },
  {
   "cell_type": "code",
   "execution_count": 13,
   "metadata": {},
   "outputs": [
    {
     "name": "stdout",
     "output_type": "stream",
     "text": [
      "name='手機套1' unit_price=140.3 quantity_on_hand=13\n"
     ]
    }
   ],
   "source": [
    "#dict的 key 要用字串\n",
    "data:dict={\n",
    "    \"name\":\"手機套1\",\n",
    "    \"unit_price\":\"140.3\",\n",
    "    \"quantity_on_hand\":\"13\"\n",
    "}\n",
    "\n",
    "try:\n",
    "    item3=InventoryItem.model_validate(data)\n",
    "except ValidationError as e:\n",
    "    print(e)\n",
    "else:\n",
    "    print(item3)"
   ]
  },
  {
   "cell_type": "code",
   "execution_count": 10,
   "metadata": {},
   "outputs": [
    {
     "name": "stdout",
     "output_type": "stream",
     "text": [
      "name='手機套2' unit_price=144.3 quantity_on_hand=17\n"
     ]
    }
   ],
   "source": [
    "data_json:str='''{\n",
    "    \"name\":\"手機套2\",\n",
    "    \"unit_price\":\"144.3\",\n",
    "    \"quantity_on_hand\":\"17\"\n",
    "}'''\n",
    "\n",
    "try:\n",
    "    item4=InventoryItem.model_validate_json(data_json)\n",
    "except ValidationError as e:\n",
    "    print(e)\n",
    "else:\n",
    "    print(item4)"
   ]
  },
  {
   "cell_type": "code",
   "execution_count": 17,
   "metadata": {},
   "outputs": [
    {
     "name": "stdout",
     "output_type": "stream",
     "text": [
      "name='手機套3' unit_price=144.3 quantity_on_hand=0\n"
     ]
    }
   ],
   "source": [
    "class InventoryItem2(BaseModel):\n",
    "    name: str\n",
    "    unit_price: float\n",
    "    quantity_on_hand: int = 0 #optional (資料可有可無)\n",
    "\n",
    "data_json2:str='''{\n",
    "    \"name\":\"手機套3\",\n",
    "    \"unit_price\":\"144.3\"\n",
    "}'''\n",
    "\n",
    "item5=InventoryItem2.model_validate_json(data_json2)\n",
    "print(item5)"
   ]
  },
  {
   "cell_type": "code",
   "execution_count": 20,
   "metadata": {},
   "outputs": [
    {
     "name": "stdout",
     "output_type": "stream",
     "text": [
      "name='手機套3' unit_price=144.3 quantity_on_hand=None\n"
     ]
    }
   ],
   "source": [
    "class InventoryItem2(BaseModel):\n",
    "    name: str\n",
    "    unit_price: float\n",
    "    #設定 如果沒有接收東西時  給他 None型別 值None\n",
    "    quantity_on_hand: int |None= None #optional (資料可有可無)\n",
    "data_json2:str='''{\n",
    "    \"name\":\"手機套3\",\n",
    "    \"unit_price\":\"144.3\"\n",
    "}'''\n",
    "\n",
    "item6=InventoryItem2.model_validate_json(data_json2)\n",
    "\n",
    "print(item6)"
   ]
  }
 ],
 "metadata": {
  "kernelspec": {
   "display_name": "vene1",
   "language": "python",
   "name": "python3"
  },
  "language_info": {
   "codemirror_mode": {
    "name": "ipython",
    "version": 3
   },
   "file_extension": ".py",
   "mimetype": "text/x-python",
   "name": "python",
   "nbconvert_exporter": "python",
   "pygments_lexer": "ipython3",
   "version": "3.12.3"
  }
 },
 "nbformat": 4,
 "nbformat_minor": 2
}
