{
 "cells": [
  {
   "cell_type": "code",
   "execution_count": 5,
   "metadata": {},
   "outputs": [
    {
     "name": "stdout",
     "output_type": "stream",
     "text": [
      "我的姓名:TTT\n",
      "我的age:25\n",
      "\n"
     ]
    }
   ],
   "source": [
    "class Person():\n",
    "    def __init__(self,name:str,age:int):\n",
    "        self.__name=name\n",
    "        self.__age=age\n",
    "\n",
    "    @property\n",
    "    def name(self)->str:\n",
    "        return self.__name\n",
    "    @property\n",
    "    def age(self)->int:\n",
    "        return self.__age\n",
    "    \n",
    "    def __repr__(self):\n",
    "\n",
    "        message=\"\"\n",
    "        message+=f\"我的姓名:{self.name}\\n\"\n",
    "        message+=f\"我的age:{self.age}\\n\"\n",
    "\n",
    "        return message\n",
    "        \n",
    "p1:Person=Person(name=\"TTT\",age=\"25\")\n",
    "print(p1)"
   ]
  },
  {
   "cell_type": "code",
   "execution_count": 12,
   "metadata": {},
   "outputs": [
    {
     "name": "stdout",
     "output_type": "stream",
     "text": [
      "及格\n",
      "不及格\n"
     ]
    }
   ],
   "source": [
    "class Student(Person):\n",
    "\n",
    "    #cls代表這個class\n",
    "    @classmethod \n",
    "    def get_student(cls,name:str,age:int,score:int):\n",
    "        return Student(name=name,age=age,score=score)\n",
    "    \n",
    "    def __init__(self,name,age,score:int,**kwargs):\n",
    "        super().__init__(name,age,**kwargs)\n",
    "        self.score=score\n",
    "    def get_level(self):\n",
    "        if  self.score>=60:\n",
    "            return \"及格\"\n",
    "        else:\n",
    "            return \"不及格\"\n",
    "        \n",
    "        \n",
    "s1= Student(\"XXX\",50,80)\n",
    "print(s1.get_level())\n",
    "\n",
    "s2=Student.get_student(\"SSS\",30,59)\n",
    "print(s2.get_level())\n",
    "\n"
   ]
  },
  {
   "cell_type": "code",
   "execution_count": 13,
   "metadata": {},
   "outputs": [
    {
     "name": "stdout",
     "output_type": "stream",
     "text": [
      "InventoryItem(name='AAA', unit_price=150.5, quantity_on_hand=0)\n"
     ]
    }
   ],
   "source": [
    "#dataclass\n",
    "\n",
    "from dataclasses import dataclass\n",
    "\n",
    "#python 內建的class 會自動產生 __init__ __repr__  \n",
    "@dataclass\n",
    "class InventoryItem:\n",
    "    \"\"\"Class for keeping track of an item in inventory.\"\"\" #說明文字\n",
    "\n",
    "    #在dataclass內這叫 field 但實際上是attribute\n",
    "    name: str\n",
    "    unit_price: float\n",
    "    quantity_on_hand: int = 0\n",
    "\n",
    "item =InventoryItem(name=\"AAA\",unit_price=150.5)\n",
    "print(item)"
   ]
  }
 ],
 "metadata": {
  "kernelspec": {
   "display_name": "vene1",
   "language": "python",
   "name": "python3"
  },
  "language_info": {
   "codemirror_mode": {
    "name": "ipython",
    "version": 3
   },
   "file_extension": ".py",
   "mimetype": "text/x-python",
   "name": "python",
   "nbconvert_exporter": "python",
   "pygments_lexer": "ipython3",
   "version": "3.12.3"
  }
 },
 "nbformat": 4,
 "nbformat_minor": 2
}
