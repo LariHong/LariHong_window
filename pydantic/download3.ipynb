{
 "cells": [
  {
   "cell_type": "code",
   "execution_count": 1,
   "metadata": {},
   "outputs": [
    {
     "name": "stdout",
     "output_type": "stream",
     "text": [
      "下載成功\n"
     ]
    }
   ],
   "source": [
    "import requests\n",
    "from requests import Response\n",
    "\n",
    "aqi_url=\"https://data.moenv.gov.tw/api/v2/aqx_p_488?api_key=e8dd42e6-9b8b-43f8-991e-b3dee723a52d&limit=1000&sort=datacreationdate desc&format=JSON\"\n",
    "\n",
    "try:\n",
    "    res:Response= requests.request(\"GET\",aqi_url)\n",
    "except Exception as e:\n",
    "    print(e)\n",
    "    \n",
    "if res.ok:\n",
    "    print(\"下載成功\")\n",
    "    \n",
    "else:\n",
    "    print(\"下載失敗\")"
   ]
  },
  {
   "cell_type": "code",
   "execution_count": null,
   "metadata": {},
   "outputs": [],
   "source": [
    "#使用field_validator\n",
    "from pydantic import BaseModel,Field,ValidationError,field_validator\n",
    "\n",
    "#可以只獲取 我要的資料就好\n",
    "class Site(BaseModel):\n",
    "    sitename:str\n",
    "    county:str\n",
    "    aqi:int\n",
    "    status:str\n",
    "    # 不管要不要驗證都會錯 因為它會自動驗證\n",
    "    # pm25:float =Field(alias=\"pm2.5\",validate_default=None)\n",
    "\n",
    "    pm25:float =Field(alias=\"pm2.5\")\n",
    "    co:float\n",
    "    #先做這邊的驗證  再去pm25:float驗證\n",
    "    @field_validator('pm25','co',mode='before')\n",
    "    @classmethod\n",
    "    def to_zero(cls,value:str)->float:\n",
    "        if value == \"\":\n",
    "            return 0.0\n",
    "        else:\n",
    "            return float(value)\n",
    "\n",
    "class AQI(BaseModel):\n",
    "    records:list[Site]\n",
    "try:\n",
    "    aqi1_data:AQI=AQI.model_validate_json(res.text)\n",
    "except ValidationError as e:\n",
    "    print(e)\n",
    "except Exception as e:\n",
    "    print(f\"不知名的錯誤{e}\")\n",
    "else:\n",
    "    records:list[Site]=aqi1_data.records\n",
    "    print(aqi1_data)\n",
    "\n",
    "    for record in records:\n",
    "        print(record)"
   ]
  },
  {
   "cell_type": "code",
   "execution_count": 4,
   "metadata": {},
   "outputs": [
    {
     "ename": "ValueError",
     "evalue": "could not convert string to float: ''",
     "output_type": "error",
     "traceback": [
      "\u001b[1;31m---------------------------------------------------------------------------\u001b[0m",
      "\u001b[1;31mValueError\u001b[0m                                Traceback (most recent call last)",
      "Cell \u001b[1;32mIn[4], line 1\u001b[0m\n\u001b[1;32m----> 1\u001b[0m \u001b[38;5;28;43mfloat\u001b[39;49m\u001b[43m(\u001b[49m\u001b[38;5;124;43m\"\u001b[39;49m\u001b[38;5;124;43m\"\u001b[39;49m\u001b[43m)\u001b[49m\n",
      "\u001b[1;31mValueError\u001b[0m: could not convert string to float: ''"
     ]
    }
   ],
   "source": [
    "float(\"\")"
   ]
  }
 ],
 "metadata": {
  "kernelspec": {
   "display_name": "vene1",
   "language": "python",
   "name": "python3"
  },
  "language_info": {
   "codemirror_mode": {
    "name": "ipython",
    "version": 3
   },
   "file_extension": ".py",
   "mimetype": "text/x-python",
   "name": "python",
   "nbconvert_exporter": "python",
   "pygments_lexer": "ipython3",
   "version": "3.12.3"
  }
 },
 "nbformat": 4,
 "nbformat_minor": 2
}
