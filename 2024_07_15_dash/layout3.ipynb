{
 "cells": [
  {
   "cell_type": "code",
   "execution_count": null,
   "metadata": {},
   "outputs": [],
   "source": [
    "from dash import Dash,html,dcc\n",
    "\n",
    "app=Dash(__name__)\n",
    "\n",
    "markdown ='''\n",
    "## Dash\n",
    "\n",
    "### Dash2\n",
    "\n",
    "#### Dash3 [課程](https://meet.google.com/wdk-fzdc-swx)\n",
    "\n",
    "##### Dash4\n",
    "'''\n",
    "\n",
    "app.layout=html.Div([\n",
    "    dcc.Markdown(children=markdown)\n",
    "])\n",
    "\n",
    "app.run(debug=True)"
   ]
  }
 ],
 "metadata": {
  "kernelspec": {
   "display_name": "base",
   "language": "python",
   "name": "python3"
  },
  "language_info": {
   "codemirror_mode": {
    "name": "ipython",
    "version": 3
   },
   "file_extension": ".py",
   "mimetype": "text/x-python",
   "name": "python",
   "nbconvert_exporter": "python",
   "pygments_lexer": "ipython3",
   "version": "3.12.2"
  }
 },
 "nbformat": 4,
 "nbformat_minor": 2
}
