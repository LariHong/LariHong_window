{
 "cells": [
  {
   "cell_type": "code",
   "execution_count": 1,
   "metadata": {},
   "outputs": [
    {
     "name": "stdout",
     "output_type": "stream",
     "text": [
      "[['Aobert', 78, 92, 65], ['Bobert', 68, 52, 75], ['Cbert', 38, 100, 55]]\n"
     ]
    }
   ],
   "source": [
    "students:list[list]=[\n",
    "    ['Aobert',78,92,65],\n",
    "    ['Bobert',68,52,75],\n",
    "    ['Cbert',38,100,55]\n",
    "]\n",
    "\n",
    "print(students)"
   ]
  }
 ],
 "metadata": {
  "kernelspec": {
   "display_name": "vene1",
   "language": "python",
   "name": "python3"
  },
  "language_info": {
   "codemirror_mode": {
    "name": "ipython",
    "version": 3
   },
   "file_extension": ".py",
   "mimetype": "text/x-python",
   "name": "python",
   "nbconvert_exporter": "python",
   "pygments_lexer": "ipython3",
   "version": "3.12.3"
  }
 },
 "nbformat": 4,
 "nbformat_minor": 2
}
