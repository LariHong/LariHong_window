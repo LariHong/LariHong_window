{
 "cells": [
  {
   "cell_type": "code",
   "execution_count": 1,
   "metadata": {},
   "outputs": [
    {
     "name": "stdout",
     "output_type": "stream",
     "text": [
      "[['Aobert', 78, 92, 65], ['Bobert', 68, 52, 75], ['Cbert', 38, 100, 55]]\n"
     ]
    }
   ],
   "source": [
    "students:list[list]=[\n",
    "    ['Aobert',78,92,65],\n",
    "    ['Bobert',68,52,75],\n",
    "    ['Cbert',38,100,55]\n",
    "]\n",
    "\n",
    "print(students)"
   ]
  },
  {
   "cell_type": "code",
   "execution_count": null,
   "metadata": {},
   "outputs": [],
   "source": [
    "students:list=[\n",
    "    {\"name\":\"Apple\",\"english\":90,\"chinese\":80,\"math\":70},\n",
    "    {\"name\":\"Banana\",\"english\":95,\"chinese\":60,\"math\":73},\n",
    "    {\"name\":\"Carrot\",\"english\":100,\"chinese\":100,\"math\":88}\n",
    "]"
   ]
  }
 ],
 "metadata": {
  "kernelspec": {
   "display_name": "vene1",
   "language": "python",
   "name": "python3"
  },
  "language_info": {
   "codemirror_mode": {
    "name": "ipython",
    "version": 3
   },
   "file_extension": ".py",
   "mimetype": "text/x-python",
   "name": "python",
   "nbconvert_exporter": "python",
   "pygments_lexer": "ipython3",
   "version": "3.12.3"
  }
 },
 "nbformat": 4,
 "nbformat_minor": 2
}
