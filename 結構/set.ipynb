{
 "cells": [
  {
   "cell_type": "code",
   "execution_count": 3,
   "metadata": {},
   "outputs": [
    {
     "name": "stdout",
     "output_type": "stream",
     "text": [
      "{1, 2, 3}\n"
     ]
    }
   ],
   "source": [
    "#set內的元素內容不可以重複\n",
    "s1={1,1,2,2,3,3}\n",
    "print(s1)"
   ]
  },
  {
   "cell_type": "code",
   "execution_count": 1,
   "metadata": {},
   "outputs": [
    {
     "data": {
      "text/plain": [
       "set()"
      ]
     },
     "execution_count": 1,
     "metadata": {},
     "output_type": "execute_result"
    }
   ],
   "source": [
    "#set 要有建構子\n",
    "s2:set=set()\n",
    "s2"
   ]
  },
  {
   "cell_type": "code",
   "execution_count": 4,
   "metadata": {},
   "outputs": [
    {
     "name": "stdout",
     "output_type": "stream",
     "text": [
      "{1, 2, 3, 4}\n",
      "{1, 3, 4}\n"
     ]
    }
   ],
   "source": [
    "#set method \n",
    "s1.add(4)\n",
    "print(s1)\n",
    "\n",
    "s1.remove(2)\n",
    "print(s1)"
   ]
  },
  {
   "cell_type": "code",
   "execution_count": 5,
   "metadata": {},
   "outputs": [
    {
     "name": "stdout",
     "output_type": "stream",
     "text": [
      "{1, 2, 3, 4, 5, 6}\n",
      "{3, 4}\n"
     ]
    }
   ],
   "source": [
    "s3:set={1,2,3,4}\n",
    "s4:set={3,4,5,6}\n",
    "\n",
    "#聯集\n",
    "u1:set=s3.union(s4)\n",
    "print(u1)\n",
    "#交集\n",
    "i1=s3.intersection(s4)\n",
    "print(i1)"
   ]
  },
  {
   "cell_type": "code",
   "execution_count": 6,
   "metadata": {},
   "outputs": [
    {
     "name": "stdout",
     "output_type": "stream",
     "text": [
      "[11, 26, 29, 30, 33, 36, 40]\n",
      "{2, 38, 10, 42, 12, 18, 19}\n",
      "{1, 34, 38, 42, 44, 15, 20}\n"
     ]
    }
   ],
   "source": [
    "#寫一個 1~49 選7個數\n",
    "import random as ran\n",
    "lot = ran.sample([x for x in range(1,50)],k=7)\n",
    "sort_set=lot.sort()\n",
    "print(lot)\n",
    "\n",
    "#會有重複值\n",
    "lot2:set=set()\n",
    "for num in range(7):\n",
    "    lot2.add(ran.randint(1,49))\n",
    "print(lot2)\n",
    "\n",
    "#不會有重複值\n",
    "lot3:set=set()\n",
    "while len(lot3)<7:\n",
    "    lot3.add(ran.randint(1,49))\n",
    "print(lot3)"
   ]
  },
  {
   "cell_type": "code",
   "execution_count": 10,
   "metadata": {},
   "outputs": [
    {
     "name": "stdout",
     "output_type": "stream",
     "text": [
      "[1, 34, 38, 42, 44, 15, 20]\n"
     ]
    }
   ],
   "source": [
    "#set 轉 list\n",
    "list_lot:list[int]=list(lot3)\n",
    "print(list_lot)"
   ]
  },
  {
   "cell_type": "markdown",
   "metadata": {},
   "source": []
  }
 ],
 "metadata": {
  "kernelspec": {
   "display_name": "vene1",
   "language": "python",
   "name": "python3"
  },
  "language_info": {
   "codemirror_mode": {
    "name": "ipython",
    "version": 3
   },
   "file_extension": ".py",
   "mimetype": "text/x-python",
   "name": "python",
   "nbconvert_exporter": "python",
   "pygments_lexer": "ipython3",
   "version": "3.12.3"
  }
 },
 "nbformat": 4,
 "nbformat_minor": 2
}
