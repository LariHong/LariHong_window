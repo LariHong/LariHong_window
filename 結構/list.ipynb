{
 "cells": [
  {
   "cell_type": "code",
   "execution_count": 3,
   "metadata": {},
   "outputs": [
    {
     "name": "stdout",
     "output_type": "stream",
     "text": [
      "<class 'list'>\n"
     ]
    }
   ],
   "source": [
    "#list \n",
    "l1:list=[2,4,6,8,10]\n",
    "#查元素個數\n",
    "count=len(l1)\n",
    "\n",
    "#class List建立的實體\n",
    "print(type(l1)) \n",
    "\n"
   ]
  },
  {
   "cell_type": "code",
   "execution_count": 15,
   "metadata": {},
   "outputs": [
    {
     "name": "stdout",
     "output_type": "stream",
     "text": [
      "不知名的錯誤list index out of range\n"
     ]
    }
   ],
   "source": [
    "try:\n",
    "    l1[5]\n",
    "except Exception as e:\n",
    "    print(f\"不知名的錯誤{e}\")"
   ]
  },
  {
   "cell_type": "code",
   "execution_count": 4,
   "metadata": {},
   "outputs": [
    {
     "name": "stdout",
     "output_type": "stream",
     "text": [
      "[2, 4, 6, 8, 10, 12]\n"
     ]
    },
    {
     "data": {
      "text/plain": [
       "12"
      ]
     },
     "execution_count": 4,
     "metadata": {},
     "output_type": "execute_result"
    }
   ],
   "source": [
    "#實體的方法method()\n",
    "l1.append(12)\n",
    "print(l1)\n",
    "\n",
    "#將最尾巴的傳出去 他hint提示 any代表可以\"賦值\" or \"不動作(下一行code後就會消失)\"\n",
    "l1.pop()"
   ]
  },
  {
   "cell_type": "code",
   "execution_count": 8,
   "metadata": {},
   "outputs": [
    {
     "name": "stdout",
     "output_type": "stream",
     "text": [
      "2\n",
      "4\n",
      "6\n",
      "8\n",
      "10\n"
     ]
    }
   ],
   "source": [
    "# list for\n",
    "\n",
    "for i in l1:\n",
    "    print(i)"
   ]
  },
  {
   "cell_type": "code",
   "execution_count": 11,
   "metadata": {},
   "outputs": [
    {
     "name": "stdout",
     "output_type": "stream",
     "text": [
      "0\n",
      "2\n",
      "/////////////////\n",
      "1\n",
      "4\n",
      "/////////////////\n",
      "2\n",
      "6\n",
      "/////////////////\n",
      "3\n",
      "8\n",
      "/////////////////\n",
      "4\n",
      "10\n",
      "/////////////////\n"
     ]
    }
   ],
   "source": [
    "#enumerate\n",
    "for (index , value) in enumerate(l1):\n",
    "    print(index)\n",
    "    print(value)\n",
    "    print(\"/////////////////\")"
   ]
  },
  {
   "cell_type": "code",
   "execution_count": null,
   "metadata": {},
   "outputs": [],
   "source": [
    "#tuple的拆解法\n",
    "(index ,value) =(0,2)\n",
    "print(index)\n",
    "print(value)\n"
   ]
  },
  {
   "cell_type": "code",
   "execution_count": 22,
   "metadata": {},
   "outputs": [
    {
     "name": "stdout",
     "output_type": "stream",
     "text": [
      "{'one': 1, 'two': 2, 'three': 3}\n",
      "<class 'dict'>\n",
      "1\n"
     ]
    }
   ],
   "source": [
    "#建立dict (mapping資料)\n",
    "dic:dict={\"one\":1, \n",
    " \"two\":2,\n",
    " \"three\":3,\n",
    " }\n",
    "\n",
    "print(dic)\n",
    "print(type(dic))\n",
    "print(dic['one'])"
   ]
  },
  {
   "cell_type": "code",
   "execution_count": 25,
   "metadata": {},
   "outputs": [
    {
     "name": "stdout",
     "output_type": "stream",
     "text": [
      "{'one': 1, 'two': 2, 'three': 3, 'four': 4}\n",
      "{'one': 1, 'two': 2, 'three': 3}\n"
     ]
    }
   ],
   "source": [
    "#會自動新增\n",
    "dic[\"four\"]=4\n",
    "print(dic)\n",
    "\n",
    "#刪除\n",
    "del dic[\"four\"]\n",
    "print(dic)"
   ]
  },
  {
   "cell_type": "code",
   "execution_count": 26,
   "metadata": {},
   "outputs": [
    {
     "name": "stdout",
     "output_type": "stream",
     "text": [
      "one\n",
      "two\n",
      "three\n"
     ]
    }
   ],
   "source": [
    "for key in dic.keys():\n",
    "    print(key)"
   ]
  },
  {
   "cell_type": "code",
   "execution_count": 30,
   "metadata": {},
   "outputs": [
    {
     "name": "stdout",
     "output_type": "stream",
     "text": [
      "1\n",
      "2\n",
      "3\n"
     ]
    }
   ],
   "source": [
    "for value in dic.values():\n",
    "    print(value)"
   ]
  },
  {
   "cell_type": "code",
   "execution_count": 32,
   "metadata": {},
   "outputs": [
    {
     "name": "stdout",
     "output_type": "stream",
     "text": [
      "key= one ,value= 1\n",
      "key= two ,value= 2\n",
      "key= three ,value= 3\n"
     ]
    }
   ],
   "source": [
    "for key,value in dic.items():\n",
    "    print(f\"key= {key} ,value= {value}\" )"
   ]
  },
  {
   "cell_type": "code",
   "execution_count": null,
   "metadata": {},
   "outputs": [],
   "source": []
  }
 ],
 "metadata": {
  "kernelspec": {
   "display_name": "vene1",
   "language": "python",
   "name": "python3"
  },
  "language_info": {
   "codemirror_mode": {
    "name": "ipython",
    "version": 3
   },
   "file_extension": ".py",
   "mimetype": "text/x-python",
   "name": "python",
   "nbconvert_exporter": "python",
   "pygments_lexer": "ipython3",
   "version": "3.12.3"
  }
 },
 "nbformat": 4,
 "nbformat_minor": 2
}
