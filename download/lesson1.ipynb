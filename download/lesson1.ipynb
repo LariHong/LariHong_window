{
 "cells": [
  {
   "cell_type": "code",
   "execution_count": 1,
   "metadata": {},
   "outputs": [],
   "source": [
    "import math  #內建函式庫\n"
   ]
  },
  {
   "cell_type": "code",
   "execution_count": 2,
   "metadata": {},
   "outputs": [],
   "source": [
    "#pip install requests 安裝 外部的 requests套件\n",
    "import requests \n",
    "from requests import Response #新增這行\n",
    "\n",
    "url =\"https://data.moenv.gov.tw/api/v2/aqx_p_488?api_key=e8dd42e6-9b8b-43f8-991e-b3dee723a52d&limit=1000&sort=datacreationdate desc&format=CSV\"\n",
    "#底下就不用  requests.Response\n",
    "response:Response = requests.get(url)\n"
   ]
  },
  {
   "cell_type": "code",
   "execution_count": 10,
   "metadata": {},
   "outputs": [],
   "source": [
    "if response.ok:\n",
    "    content:str = response.text\n",
    "else:\n",
    "    print(\"download error\")"
   ]
  },
  {
   "cell_type": "code",
   "execution_count": 33,
   "metadata": {},
   "outputs": [],
   "source": [
    "#內建的str讀取model\n",
    "from io import StringIO\n",
    "#內建的csv功能\n",
    "import csv\n",
    "from csv import DictReader\n",
    "\n",
    "file:StringIO=StringIO(initial_value=content)\n",
    "reader:DictReader=csv.DictReader(file)\n",
    "#將資料轉成list\n",
    "list_reader=list(reader)\n",
    "#拿出list中的第一項  並將他們的key值取出\n",
    "fields =list_reader[0].keys()"
   ]
  },
  {
   "cell_type": "code",
   "execution_count": 34,
   "metadata": {},
   "outputs": [],
   "source": [
    "from io import StringIO\n",
    "import csv\n",
    "from csv import DictWriter\n",
    "\n",
    "# csvfile  <--open(\"aqi.csv\",\"w\",newline=\"\") 將底下的內容寫入aqi.csv\n",
    "with open(\"aqi.csv\",\"w\",newline=\"\") as csvfile:\n",
    "    # fieldnames是 對應key值存入 csvfile\n",
    "    writer:DictWriter=DictWriter(csvfile,fieldnames=fields)\n",
    "\n",
    "    writer.writeheader()\n",
    "    writer.writerows(list_reader)"
   ]
  }
 ],
 "metadata": {
  "kernelspec": {
   "display_name": "vene1",
   "language": "python",
   "name": "python3"
  },
  "language_info": {
   "codemirror_mode": {
    "name": "ipython",
    "version": 3
   },
   "file_extension": ".py",
   "mimetype": "text/x-python",
   "name": "python",
   "nbconvert_exporter": "python",
   "pygments_lexer": "ipython3",
   "version": "3.12.3"
  }
 },
 "nbformat": 4,
 "nbformat_minor": 2
}
