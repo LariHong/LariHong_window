{
 "cells": [
  {
   "cell_type": "code",
   "execution_count": 4,
   "metadata": {},
   "outputs": [],
   "source": [
    "from dash import Dash,dcc,html,Input,Output,callback\n",
    "import pandas as pd "
   ]
  },
  {
   "cell_type": "code",
   "execution_count": 5,
   "metadata": {},
   "outputs": [],
   "source": [
    "app = Dash(__name__)\n",
    "\n",
    "df =pd.read_csv('https://plotly.github.io/datasets/country_indicators.csv')\n"
   ]
  },
  {
   "cell_type": "code",
   "execution_count": 6,
   "metadata": {},
   "outputs": [
    {
     "data": {
      "text/html": [
       "\n",
       "        <iframe\n",
       "            width=\"100%\"\n",
       "            height=\"650\"\n",
       "            src=\"http://127.0.0.1:8050/\"\n",
       "            frameborder=\"0\"\n",
       "            allowfullscreen\n",
       "            \n",
       "        ></iframe>\n",
       "        "
      ],
      "text/plain": [
       "<IPython.lib.display.IFrame at 0x7f8989995cd0>"
      ]
     },
     "metadata": {},
     "output_type": "display_data"
    }
   ],
   "source": [
    "#'display':'inline-block'  有這個才可以設寬度\n",
    "import plotly.express as px\n",
    "\n",
    "app.layout = html.Div([\n",
    "    html.Div([\n",
    "        html.Div([\n",
    "            dcc.Dropdown(\n",
    "                df['Indicator Name'].unique(),\n",
    "                'Fertility rate, total (births per woman)',\n",
    "                id='xaxis-column'\n",
    "            ),\n",
    "            dcc.RadioItems(\n",
    "                ['Linear','Log'],\n",
    "                'Linear',\n",
    "                id = 'xaxis-type',\n",
    "                inline=True\n",
    "            )\n",
    "        ],style={'width':'48%','display':'inline-block'}),\n",
    "        html.Div([\n",
    "            dcc.Dropdown(\n",
    "                df['Indicator Name'].unique(),\n",
    "                'Life expectancy at birth, total (years)',\n",
    "                id='yaxis-column'\n",
    "            ),\n",
    "            dcc.RadioItems(\n",
    "                ['Linear','Log'],\n",
    "                'Linear',\n",
    "                id = 'yaxis-type',\n",
    "                inline=True\n",
    "            )\n",
    "        ],style={'width':'48%','float':'right','display':'inline-block'})\n",
    "    ]),\n",
    "    dcc.Graph(id='indicator-graphic'),\n",
    "    dcc.Slider(\n",
    "        min=df['Year'].min(),\n",
    "        max=df['Year'].max(),\n",
    "        step=None,\n",
    "        id='year--slider',\n",
    "        value=df['Year'].max(),\n",
    "        marks = {str(year):str(year) for year in df['Year'].unique()}\n",
    "    )\n",
    "\n",
    "])\n",
    "\n",
    "@callback(\n",
    "    Output('indicator-graphic','figure'),\n",
    "    Input('xaxis-column','value'),\n",
    "    Input('yaxis-column','value'),\n",
    "    Input('xaxis-type','value'),\n",
    "    Input('yaxis-type','value'),\n",
    "    Input('year--slider','value')   \n",
    ")\n",
    "def update_graph(xaxis_column_name,\n",
    "                 yaxis_column_name,\n",
    "                 xaxis_type,\n",
    "                 yaxis_type,\n",
    "                 year_value\n",
    "                 ):\n",
    "    dff = df[df['Year'] == year_value]\n",
    "    xValue = dff[dff['Indicator Name'] == xaxis_column_name]['Value']\n",
    "    yValue = dff[dff['Indicator Name'] == yaxis_column_name]['Value']\n",
    "    hoverValue = dff[dff['Indicator Name'] == yaxis_column_name]['Country Name']\n",
    "    fig = px.scatter(\n",
    "                x=xValue,\n",
    "                y=yValue,\n",
    "                hover_name=hoverValue)\n",
    "    \n",
    "    fig.update_layout(margin={'l':40, 'b':40, 't':10, 'r':0},\n",
    "                      hovermode='closest')\n",
    "    \n",
    "    fig.update_xaxes(title=xaxis_column_name,\n",
    "                     type='linear' if xaxis_type == 'Linear' else 'log')\n",
    "    \n",
    "    fig.update_yaxes(title=yaxis_column_name,\n",
    "                     type='linear' if yaxis_type == 'Linear' else 'log')\n",
    "    return fig\n",
    "\n",
    "    \n",
    "\n",
    "if __name__ == '__main__':\n",
    "    app.run(debug=True)"
   ]
  }
 ],
 "metadata": {
  "kernelspec": {
   "display_name": "base",
   "language": "python",
   "name": "python3"
  },
  "language_info": {
   "codemirror_mode": {
    "name": "ipython",
    "version": 3
   },
   "file_extension": ".py",
   "mimetype": "text/x-python",
   "name": "python",
   "nbconvert_exporter": "python",
   "pygments_lexer": "ipython3",
   "version": "3.12.2"
  }
 },
 "nbformat": 4,
 "nbformat_minor": 2
}
